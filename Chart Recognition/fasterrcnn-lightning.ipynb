{
 "cells": [
  {
   "cell_type": "code",
   "execution_count": 1,
   "id": "ac0d2f2b",
   "metadata": {
    "_cell_guid": "b1076dfc-b9ad-4769-8c92-a6c4dae69d19",
    "_uuid": "8f2839f25d086af736a60e9eeb907d3b93b6e0e5",
    "execution": {
     "iopub.execute_input": "2025-01-05T23:14:58.643422Z",
     "iopub.status.busy": "2025-01-05T23:14:58.643158Z",
     "iopub.status.idle": "2025-01-05T23:15:02.945483Z",
     "shell.execute_reply": "2025-01-05T23:15:02.944620Z"
    },
    "papermill": {
     "duration": 4.30866,
     "end_time": "2025-01-05T23:15:02.947173",
     "exception": false,
     "start_time": "2025-01-05T23:14:58.638513",
     "status": "completed"
    },
    "tags": []
   },
   "outputs": [
    {
     "name": "stdout",
     "output_type": "stream",
     "text": [
      "Requirement already satisfied: pycocotools in /usr/local/lib/python3.10/dist-packages (2.0.8)\r\n",
      "Requirement already satisfied: matplotlib>=2.1.0 in /usr/local/lib/python3.10/dist-packages (from pycocotools) (3.7.1)\r\n",
      "Requirement already satisfied: numpy in /usr/local/lib/python3.10/dist-packages (from pycocotools) (1.26.4)\r\n",
      "Requirement already satisfied: contourpy>=1.0.1 in /usr/local/lib/python3.10/dist-packages (from matplotlib>=2.1.0->pycocotools) (1.3.0)\r\n",
      "Requirement already satisfied: cycler>=0.10 in /usr/local/lib/python3.10/dist-packages (from matplotlib>=2.1.0->pycocotools) (0.12.1)\r\n",
      "Requirement already satisfied: fonttools>=4.22.0 in /usr/local/lib/python3.10/dist-packages (from matplotlib>=2.1.0->pycocotools) (4.53.1)\r\n",
      "Requirement already satisfied: kiwisolver>=1.0.1 in /usr/local/lib/python3.10/dist-packages (from matplotlib>=2.1.0->pycocotools) (1.4.7)\r\n",
      "Requirement already satisfied: packaging>=20.0 in /usr/local/lib/python3.10/dist-packages (from matplotlib>=2.1.0->pycocotools) (24.1)\r\n",
      "Requirement already satisfied: pillow>=6.2.0 in /usr/local/lib/python3.10/dist-packages (from matplotlib>=2.1.0->pycocotools) (10.4.0)\r\n",
      "Requirement already satisfied: pyparsing>=2.3.1 in /usr/local/lib/python3.10/dist-packages (from matplotlib>=2.1.0->pycocotools) (3.1.4)\r\n",
      "Requirement already satisfied: python-dateutil>=2.7 in /usr/local/lib/python3.10/dist-packages (from matplotlib>=2.1.0->pycocotools) (2.8.2)\r\n"
     ]
    },
    {
     "name": "stdout",
     "output_type": "stream",
     "text": [
      "Requirement already satisfied: six>=1.5 in /usr/local/lib/python3.10/dist-packages (from python-dateutil>=2.7->matplotlib>=2.1.0->pycocotools) (1.16.0)\r\n"
     ]
    }
   ],
   "source": [
    "!pip install pycocotools"
   ]
  },
  {
   "cell_type": "markdown",
   "id": "b7eaf371",
   "metadata": {
    "papermill": {
     "duration": 0.0031,
     "end_time": "2025-01-05T23:15:02.954049",
     "exception": false,
     "start_time": "2025-01-05T23:15:02.950949",
     "status": "completed"
    },
    "tags": []
   },
   "source": [
    "# Libraries"
   ]
  },
  {
   "cell_type": "code",
   "execution_count": 2,
   "id": "806a6a3e",
   "metadata": {
    "execution": {
     "iopub.execute_input": "2025-01-05T23:15:02.961053Z",
     "iopub.status.busy": "2025-01-05T23:15:02.960767Z",
     "iopub.status.idle": "2025-01-05T23:15:10.442191Z",
     "shell.execute_reply": "2025-01-05T23:15:10.441474Z"
    },
    "papermill": {
     "duration": 7.486651,
     "end_time": "2025-01-05T23:15:10.443761",
     "exception": false,
     "start_time": "2025-01-05T23:15:02.957110",
     "status": "completed"
    },
    "tags": []
   },
   "outputs": [],
   "source": [
    "import os\n",
    "import torch\n",
    "from torch.utils.data import DataLoader\n",
    "from torchvision.models.detection.faster_rcnn import FastRCNNPredictor\n",
    "from torchvision.models.detection import fasterrcnn_resnet50_fpn\n",
    "from torchvision.models.detection import FasterRCNN_ResNet50_FPN_Weights\n",
    "from torchvision.transforms import transforms\n",
    "from torchvision.ops import box_iou\n",
    "from pytorch_lightning import LightningModule, Trainer\n",
    "from pytorch_lightning.callbacks import ModelCheckpoint, LearningRateMonitor\n",
    "from pytorch_lightning.strategies import DDPStrategy\n",
    "from pycocotools.coco import COCO\n",
    "from PIL import Image\n",
    "import numpy as np\n",
    "from pytorch_lightning.callbacks import RichProgressBar"
   ]
  },
  {
   "cell_type": "markdown",
   "id": "965fc79c",
   "metadata": {
    "papermill": {
     "duration": 0.003221,
     "end_time": "2025-01-05T23:15:10.450773",
     "exception": false,
     "start_time": "2025-01-05T23:15:10.447552",
     "status": "completed"
    },
    "tags": []
   },
   "source": [
    "# Path and Directory"
   ]
  },
  {
   "cell_type": "code",
   "execution_count": 3,
   "id": "0ed4051f",
   "metadata": {
    "execution": {
     "iopub.execute_input": "2025-01-05T23:15:10.458290Z",
     "iopub.status.busy": "2025-01-05T23:15:10.457835Z",
     "iopub.status.idle": "2025-01-05T23:15:10.481196Z",
     "shell.execute_reply": "2025-01-05T23:15:10.480353Z"
    },
    "papermill": {
     "duration": 0.028636,
     "end_time": "2025-01-05T23:15:10.482628",
     "exception": false,
     "start_time": "2025-01-05T23:15:10.453992",
     "status": "completed"
    },
    "tags": []
   },
   "outputs": [],
   "source": [
    "root_dir = '/kaggle/working/'\n",
    "train_dir = '/kaggle/input/mycqadataset/train'\n",
    "test_dir = '/kaggle/input/mycqadataset/test'\n",
    "val_dir = '/kaggle/input/mycqadataset/valid'\n",
    "train_labels_file = '/kaggle/input/mycqadataset/train/_annotations.coco.json'\n",
    "val_labels_file = '/kaggle/input/mycqadataset/valid/_annotations.coco.json'\n",
    "LR = 0.0001\n",
    "WEIGHT_DECAY = 0.0001\n",
    "NUM_EPOCHS = 30\n",
    "BATCH_SIZE = 16\n",
    "device = torch.device('cuda') if torch.cuda.is_available() else torch.device('cpu')"
   ]
  },
  {
   "cell_type": "markdown",
   "id": "9f05a71f",
   "metadata": {
    "papermill": {
     "duration": 0.003288,
     "end_time": "2025-01-05T23:15:10.489371",
     "exception": false,
     "start_time": "2025-01-05T23:15:10.486083",
     "status": "completed"
    },
    "tags": []
   },
   "source": [
    "# Custom Dataset Classes"
   ]
  },
  {
   "cell_type": "code",
   "execution_count": 4,
   "id": "0d6f6690",
   "metadata": {
    "execution": {
     "iopub.execute_input": "2025-01-05T23:15:10.496644Z",
     "iopub.status.busy": "2025-01-05T23:15:10.496368Z",
     "iopub.status.idle": "2025-01-05T23:15:10.503944Z",
     "shell.execute_reply": "2025-01-05T23:15:10.503182Z"
    },
    "papermill": {
     "duration": 0.012698,
     "end_time": "2025-01-05T23:15:10.505243",
     "exception": false,
     "start_time": "2025-01-05T23:15:10.492545",
     "status": "completed"
    },
    "tags": []
   },
   "outputs": [],
   "source": [
    "class YoloDataset(torch.utils.data.Dataset):\n",
    "    def __init__(self, images_dir, labels_dir, transform=None):\n",
    "        self.images_dir = images_dir\n",
    "        self.labels_dir = labels_dir\n",
    "        self.transform = transform\n",
    "        self.image_files = [f for f in os.listdir(images_dir) if f.endswith(('.png', '.jpg', '.jpeg'))]\n",
    "\n",
    "    def __len__(self):\n",
    "        return len(self.image_files)\n",
    "\n",
    "    def __getitem__(self, idx):\n",
    "        # Load image\n",
    "        image_file = self.image_files[idx]\n",
    "        img_path = os.path.join(self.images_dir, image_file)\n",
    "        img = Image.open(img_path).convert(\"RGB\")\n",
    "\n",
    "        # Load corresponding label file\n",
    "        label_file = os.path.splitext(image_file)[0] + \".txt\"\n",
    "        label_path = os.path.join(self.labels_dir, label_file)\n",
    "\n",
    "        boxes = []\n",
    "        labels = []\n",
    "\n",
    "        if os.path.exists(label_path):\n",
    "            with open(label_path, 'r') as f:\n",
    "                for line in f:\n",
    "                    parts = line.strip().split()\n",
    "                    class_id = int(parts[0])\n",
    "                    x_center, y_center, width, height = map(float, parts[1:])\n",
    "                    labels.append(class_id)\n",
    "\n",
    "                    # Convert YOLO format back to bounding box coordinates\n",
    "                    xmin = x_center - width / 2\n",
    "                    ymin = y_center - height / 2\n",
    "                    xmax = x_center + width / 2\n",
    "                    ymax = y_center + height / 2\n",
    "\n",
    "                    boxes.append([xmin, ymin, xmax, ymax])\n",
    "\n",
    "        if not boxes:\n",
    "            boxes = torch.zeros((0, 4), dtype=torch.float32)\n",
    "            labels = torch.zeros((0,), dtype=torch.int64)\n",
    "        else:\n",
    "            boxes = torch.tensor(boxes, dtype=torch.float32)\n",
    "            labels = torch.tensor(labels, dtype=torch.int64)\n",
    "        if self.transform:\n",
    "            img = self.transform(img)\n",
    "        target = {\"boxes\": boxes, \"labels\": labels}\n",
    "\n",
    "        return img, target"
   ]
  },
  {
   "cell_type": "code",
   "execution_count": 5,
   "id": "bb1850b0",
   "metadata": {
    "execution": {
     "iopub.execute_input": "2025-01-05T23:15:10.512239Z",
     "iopub.status.busy": "2025-01-05T23:15:10.512023Z",
     "iopub.status.idle": "2025-01-05T23:15:10.518381Z",
     "shell.execute_reply": "2025-01-05T23:15:10.517757Z"
    },
    "papermill": {
     "duration": 0.011169,
     "end_time": "2025-01-05T23:15:10.519537",
     "exception": false,
     "start_time": "2025-01-05T23:15:10.508368",
     "status": "completed"
    },
    "tags": []
   },
   "outputs": [],
   "source": [
    "class CocoDataset(torch.utils.data.Dataset):\n",
    "    def __init__(self, root_dir, annFile, transform=None):\n",
    "        self.root_dir = root_dir\n",
    "        self.transform = transform\n",
    "        self.coco = COCO(annFile)\n",
    "        self.ids = self.coco.getImgIds()\n",
    "\n",
    "    def __len__(self):\n",
    "        return len(self.ids)\n",
    "\n",
    "    def __getitem__(self, idx):\n",
    "        img_id = self.ids[idx]\n",
    "        ann_ids = self.coco.getAnnIds(imgIds=img_id)\n",
    "        anns = self.coco.loadAnns(ann_ids)\n",
    "        img_info = self.coco.loadImgs(img_id)[0]\n",
    "        path = os.path.join(self.root_dir, img_info['file_name'])\n",
    "        img = Image.open(path).convert(\"RGB\")\n",
    "\n",
    "        boxes = []\n",
    "        labels = []\n",
    "        for ann in anns:\n",
    "            x, y, w, h = ann['bbox']\n",
    "            if w > 0 and h > 0:\n",
    "                xmin, ymin, xmax, ymax = x, y, x + w, y + h\n",
    "                boxes.append([xmin, ymin, xmax, ymax])\n",
    "                labels.append(ann['category_id'])\n",
    "\n",
    "        if not boxes:\n",
    "            boxes = torch.zeros((0, 4), dtype=torch.float32)\n",
    "            labels = torch.zeros((0,), dtype=torch.int64)\n",
    "        else:\n",
    "            boxes = torch.tensor(boxes, dtype=torch.float32)\n",
    "            labels = torch.tensor(labels, dtype=torch.int64)\n",
    "\n",
    "        if self.transform:\n",
    "            img = self.transform(img)\n",
    "\n",
    "        target = {\"boxes\": boxes, \"labels\": labels}\n",
    "        return img, target"
   ]
  },
  {
   "cell_type": "markdown",
   "id": "8a223656",
   "metadata": {
    "papermill": {
     "duration": 0.002913,
     "end_time": "2025-01-05T23:15:10.525590",
     "exception": false,
     "start_time": "2025-01-05T23:15:10.522677",
     "status": "completed"
    },
    "tags": []
   },
   "source": [
    "# Preparing Data"
   ]
  },
  {
   "cell_type": "code",
   "execution_count": 6,
   "id": "3feea4f9",
   "metadata": {
    "execution": {
     "iopub.execute_input": "2025-01-05T23:15:10.532552Z",
     "iopub.status.busy": "2025-01-05T23:15:10.532345Z",
     "iopub.status.idle": "2025-01-05T23:15:11.047251Z",
     "shell.execute_reply": "2025-01-05T23:15:11.046542Z"
    },
    "papermill": {
     "duration": 0.519976,
     "end_time": "2025-01-05T23:15:11.048672",
     "exception": false,
     "start_time": "2025-01-05T23:15:10.528696",
     "status": "completed"
    },
    "tags": []
   },
   "outputs": [],
   "source": [
    "# Transformations\n",
    "transform = transforms.Compose([\n",
    "    transforms.ToTensor(),\n",
    "    transforms.Normalize(mean=[0.485, 0.456, 0.406], std=[0.229, 0.224, 0.225]),\n",
    "])\n",
    "\n",
    "# Datasets and Dataloaders\n",
    "# train_dataset = CocoDataset(root_dir=train_dir, annFile=train_labels_file, transform=transform)\n",
    "# val_dataset = CocoDataset(root_dir=val_dir, annFile=val_labels_file, transform=transform)\n",
    "train_dataset = YoloDataset(\n",
    "    images_dir=\"/kaggle/input/chart-detection-v4/doclaynet_yolo_dataset_v4/images/train\",\n",
    "    labels_dir=\"/kaggle/input/chart-detection-v4/doclaynet_yolo_dataset_v4/labels/train\",\n",
    "    transform=transform\n",
    ")\n",
    "\n",
    "val_dataset = YoloDataset(\n",
    "    images_dir=\"/kaggle/input/chart-detection-v4/doclaynet_yolo_dataset_v4/images/val\",\n",
    "    labels_dir=\"/kaggle/input/chart-detection-v4/doclaynet_yolo_dataset_v4/labels/val\",\n",
    "    transform=transform\n",
    ")\n",
    "def custom_collate_fn(batch):\n",
    "    images, targets = zip(*batch)\n",
    "    return list(images), list(targets)\n",
    "\n",
    "train_loader = DataLoader(train_dataset, batch_size=BATCH_SIZE, num_workers=3, shuffle=True, collate_fn=custom_collate_fn)\n",
    "val_loader = DataLoader(val_dataset, batch_size=BATCH_SIZE, num_workers=3, shuffle=False, collate_fn=custom_collate_fn)"
   ]
  },
  {
   "cell_type": "markdown",
   "id": "d0954415",
   "metadata": {
    "papermill": {
     "duration": 0.003023,
     "end_time": "2025-01-05T23:15:11.055261",
     "exception": false,
     "start_time": "2025-01-05T23:15:11.052238",
     "status": "completed"
    },
    "tags": []
   },
   "source": [
    "# FasterRCNN Lightning"
   ]
  },
  {
   "cell_type": "code",
   "execution_count": 7,
   "id": "f71b6bfb",
   "metadata": {
    "execution": {
     "iopub.execute_input": "2025-01-05T23:15:11.062347Z",
     "iopub.status.busy": "2025-01-05T23:15:11.062107Z",
     "iopub.status.idle": "2025-01-05T23:15:11.077378Z",
     "shell.execute_reply": "2025-01-05T23:15:11.076723Z"
    },
    "papermill": {
     "duration": 0.020212,
     "end_time": "2025-01-05T23:15:11.078569",
     "exception": false,
     "start_time": "2025-01-05T23:15:11.058357",
     "status": "completed"
    },
    "tags": []
   },
   "outputs": [],
   "source": [
    "class FasterRCNNLightning(LightningModule):\n",
    "    def __init__(self):\n",
    "        super(FasterRCNNLightning, self).__init__()\n",
    "        self.model = fasterrcnn_resnet50_fpn(weights=FasterRCNN_ResNet50_FPN_Weights.DEFAULT)\n",
    "        num_classes = 2  \n",
    "        in_features = self.model.roi_heads.box_predictor.cls_score.in_features\n",
    "\n",
    "        self.model.roi_heads.box_predictor = FastRCNNPredictor(in_features, num_classes)\n",
    "        self.lr = LR\n",
    "        self.weight_decay = WEIGHT_DECAY\n",
    "\n",
    "    def forward(self, images):\n",
    "        return self.model(images)\n",
    "\n",
    "    def training_step(self, batch, batch_idx):\n",
    "        images, targets = batch\n",
    "        images = list(img.to(self.device) for img in images)\n",
    "        targets = [{k: v.to(self.device) for k, v in t.items()} for t in targets]\n",
    "        loss_dict = self.model(images, targets)\n",
    "        loss = sum(loss for loss in loss_dict.values())\n",
    "        self.log('train_loss', loss, prog_bar=True, batch_size=len(images))\n",
    "        return loss\n",
    "\n",
    "    def validation_step(self, batch, batch_idx):\n",
    "        images, targets = batch\n",
    "        images = list(img.to(self.device) for img in images)\n",
    "        targets = [{k: v.to(self.device) for k, v in t.items()} for t in targets]\n",
    "\n",
    "        predictions = self.model(images)\n",
    "        TP, FP, FN = 0, 0, 0\n",
    "        iou_threshold = 0.5\n",
    "        iou_scores = []\n",
    "\n",
    "        for target, prediction in zip(targets, predictions):\n",
    "            target_boxes = target['boxes']\n",
    "            target_labels = target['labels']\n",
    "            predicted_boxes = prediction['boxes']\n",
    "            predicted_labels = prediction['labels']\n",
    "\n",
    "            if target_boxes.shape[0] == 0 or predicted_boxes.shape[0] == 0:\n",
    "                FN += len(target_boxes)\n",
    "                FP += len(predicted_boxes)\n",
    "                continue\n",
    "\n",
    "            iou = box_iou(predicted_boxes, target_boxes)\n",
    "            matched_gt = set()\n",
    "\n",
    "            for i in range(iou.size(0)):\n",
    "                max_iou, idx = iou[i].max(0)\n",
    "                if max_iou > iou_threshold and idx.item() not in matched_gt:\n",
    "                    TP += 1\n",
    "                    matched_gt.add(idx.item())\n",
    "                else:\n",
    "                    FP += 1\n",
    "\n",
    "            FN += len(target_boxes) - len(matched_gt)\n",
    "            iou_scores.append(iou.mean().item())\n",
    "\n",
    "        precision = TP / (TP + FP) if (TP + FP) > 0 else 0\n",
    "        recall = TP / (TP + FN) if (TP + FN) > 0 else 0\n",
    "        f1_score = 2 * (precision * recall) / (precision + recall) if (precision + recall) > 0 else 0\n",
    "        mean_iou = np.mean(iou_scores) if iou_scores else 0\n",
    "\n",
    "        self.log('val_precision', precision, prog_bar=True, sync_dist=True)\n",
    "        self.log('val_recall', recall, prog_bar=True, sync_dist=True)\n",
    "        self.log('val_f1_score', f1_score, prog_bar=True, sync_dist=True)\n",
    "        self.log('val_mean_iou', mean_iou, prog_bar=True, sync_dist=True)\n",
    "\n",
    "        map_scores = {}\n",
    "        for threshold in [0.5, 0.75, 0.9]:\n",
    "            TP, FP, FN = 0, 0, 0\n",
    "            for target, prediction in zip(targets, predictions):\n",
    "                target_boxes = target['boxes']\n",
    "                predicted_boxes = prediction['boxes']\n",
    "\n",
    "                if target_boxes.shape[0] == 0 or predicted_boxes.shape[0] == 0:\n",
    "                    FN += len(target_boxes)\n",
    "                    FP += len(predicted_boxes)\n",
    "                    continue\n",
    "\n",
    "                iou = box_iou(predicted_boxes, target_boxes)\n",
    "                matched_gt = set()\n",
    "\n",
    "                for i in range(iou.size(0)):\n",
    "                    max_iou, idx = iou[i].max(0)\n",
    "                    if max_iou > threshold and idx.item() not in matched_gt:\n",
    "                        TP += 1\n",
    "                        matched_gt.add(idx.item())\n",
    "                    else:\n",
    "                        FP += 1\n",
    "\n",
    "                FN += len(target_boxes) - len(matched_gt)\n",
    "\n",
    "            precision = TP / (TP + FP) if (TP + FP) > 0 else 0\n",
    "            recall = TP / (TP + FN) if (TP + FN) > 0 else 0\n",
    "            map_scores[f'mAP@{threshold:.2f}'] = precision * recall / (precision + recall) if (precision + recall) > 0 else 0\n",
    "\n",
    "        for key, value in map_scores.items():\n",
    "            self.log(key, value, prog_bar=True, sync_dist=True)\n",
    "\n",
    "        return predictions\n",
    "\n",
    "    def configure_optimizers(self):\n",
    "        optimizer = torch.optim.AdamW(self.model.parameters(), lr=self.lr, weight_decay=self.weight_decay)\n",
    "        return optimizer\n"
   ]
  },
  {
   "cell_type": "markdown",
   "id": "029557ef",
   "metadata": {
    "papermill": {
     "duration": 0.002909,
     "end_time": "2025-01-05T23:15:11.084571",
     "exception": false,
     "start_time": "2025-01-05T23:15:11.081662",
     "status": "completed"
    },
    "tags": []
   },
   "source": [
    "# Callbacks"
   ]
  },
  {
   "cell_type": "code",
   "execution_count": 8,
   "id": "dbfe5db7",
   "metadata": {
    "execution": {
     "iopub.execute_input": "2025-01-05T23:15:11.091406Z",
     "iopub.status.busy": "2025-01-05T23:15:11.091187Z",
     "iopub.status.idle": "2025-01-05T23:15:11.104701Z",
     "shell.execute_reply": "2025-01-05T23:15:11.104153Z"
    },
    "papermill": {
     "duration": 0.018252,
     "end_time": "2025-01-05T23:15:11.105871",
     "exception": false,
     "start_time": "2025-01-05T23:15:11.087619",
     "status": "completed"
    },
    "tags": []
   },
   "outputs": [],
   "source": [
    "checkpoint_callback = ModelCheckpoint(\n",
    "    monitor='train_loss',\n",
    "    mode='min',\n",
    "    filename='retinanet-{epoch:02d}-{train_loss:.2f}',\n",
    "    save_top_k=3\n",
    ")\n",
    "lr_monitor = LearningRateMonitor(logging_interval='epoch')\n",
    "# rich_progress_bar = RichProgressBar()"
   ]
  },
  {
   "cell_type": "markdown",
   "id": "913e0940",
   "metadata": {
    "papermill": {
     "duration": 0.002914,
     "end_time": "2025-01-05T23:15:11.111994",
     "exception": false,
     "start_time": "2025-01-05T23:15:11.109080",
     "status": "completed"
    },
    "tags": []
   },
   "source": [
    "# Trainer"
   ]
  },
  {
   "cell_type": "code",
   "execution_count": 9,
   "id": "19cd52b7",
   "metadata": {
    "execution": {
     "iopub.execute_input": "2025-01-05T23:15:11.118929Z",
     "iopub.status.busy": "2025-01-05T23:15:11.118724Z",
     "iopub.status.idle": "2025-01-05T23:15:11.157643Z",
     "shell.execute_reply": "2025-01-05T23:15:11.157079Z"
    },
    "papermill": {
     "duration": 0.043796,
     "end_time": "2025-01-05T23:15:11.158907",
     "exception": false,
     "start_time": "2025-01-05T23:15:11.115111",
     "status": "completed"
    },
    "tags": []
   },
   "outputs": [],
   "source": [
    "trainer = Trainer(\n",
    "    max_epochs=NUM_EPOCHS,\n",
    "    accelerator='gpu',\n",
    "    devices=torch.cuda.device_count(),\n",
    "    strategy=\"ddp_notebook\",\n",
    "    callbacks=[checkpoint_callback, lr_monitor],\n",
    "    precision='16-mixed'\n",
    ")"
   ]
  },
  {
   "cell_type": "markdown",
   "id": "885c118c",
   "metadata": {
    "papermill": {
     "duration": 0.002957,
     "end_time": "2025-01-05T23:15:11.165159",
     "exception": false,
     "start_time": "2025-01-05T23:15:11.162202",
     "status": "completed"
    },
    "tags": []
   },
   "source": [
    "# Train"
   ]
  },
  {
   "cell_type": "code",
   "execution_count": 10,
   "id": "14bc9137",
   "metadata": {
    "execution": {
     "iopub.execute_input": "2025-01-05T23:15:11.172178Z",
     "iopub.status.busy": "2025-01-05T23:15:11.171927Z"
    },
    "papermill": {
     "duration": null,
     "end_time": null,
     "exception": false,
     "start_time": "2025-01-05T23:15:11.168234",
     "status": "running"
    },
    "tags": []
   },
   "outputs": [
    {
     "name": "stderr",
     "output_type": "stream",
     "text": [
      "Downloading: \"https://download.pytorch.org/models/fasterrcnn_resnet50_fpn_coco-258fb6c6.pth\" to /root/.cache/torch/hub/checkpoints/fasterrcnn_resnet50_fpn_coco-258fb6c6.pth\n"
     ]
    },
    {
     "name": "stderr",
     "output_type": "stream",
     "text": [
      "\r",
      "  0%|          | 0.00/160M [00:00<?, ?B/s]"
     ]
    },
    {
     "name": "stderr",
     "output_type": "stream",
     "text": [
      "\r",
      "  9%|▉         | 14.4M/160M [00:00<00:01, 150MB/s]"
     ]
    },
    {
     "name": "stderr",
     "output_type": "stream",
     "text": [
      "\r",
      " 24%|██▎       | 37.8M/160M [00:00<00:00, 206MB/s]"
     ]
    },
    {
     "name": "stderr",
     "output_type": "stream",
     "text": [
      "\r",
      " 38%|███▊      | 61.4M/160M [00:00<00:00, 225MB/s]"
     ]
    },
    {
     "name": "stderr",
     "output_type": "stream",
     "text": [
      "\r",
      " 53%|█████▎    | 84.9M/160M [00:00<00:00, 233MB/s]"
     ]
    },
    {
     "name": "stderr",
     "output_type": "stream",
     "text": [
      "\r",
      " 68%|██████▊   | 108M/160M [00:00<00:00, 237MB/s] "
     ]
    },
    {
     "name": "stderr",
     "output_type": "stream",
     "text": [
      "\r",
      " 82%|████████▏ | 131M/160M [00:00<00:00, 239MB/s]"
     ]
    },
    {
     "name": "stderr",
     "output_type": "stream",
     "text": [
      "\r",
      " 97%|█████████▋| 155M/160M [00:00<00:00, 241MB/s]"
     ]
    },
    {
     "name": "stderr",
     "output_type": "stream",
     "text": [
      "\r",
      "100%|██████████| 160M/160M [00:00<00:00, 232MB/s]"
     ]
    },
    {
     "name": "stderr",
     "output_type": "stream",
     "text": [
      "\n"
     ]
    },
    {
     "name": "stderr",
     "output_type": "stream",
     "text": [
      "/usr/lib/python3.10/multiprocessing/popen_fork.py:66: RuntimeWarning: os.fork() was called. os.fork() is incompatible with multithreaded code, and JAX is multithreaded, so this will likely lead to a deadlock.\n",
      "  self.pid = os.fork()\n"
     ]
    },
    {
     "name": "stderr",
     "output_type": "stream",
     "text": [
      "/usr/local/lib/python3.10/dist-packages/pytorch_lightning/utilities/data.py:78: Trying to infer the `batch_size` from an ambiguous collection. The batch size we found is 3. To avoid any miscalculations, use `self.log(..., batch_size=batch_size)`.\n"
     ]
    },
    {
     "data": {
      "application/vnd.jupyter.widget-view+json": {
       "model_id": "e2c09fadb3f148f38db2ce950c54b7b6",
       "version_major": 2,
       "version_minor": 0
      },
      "text/plain": [
       "Training: |          | 0/? [00:00<?, ?it/s]"
      ]
     },
     "metadata": {},
     "output_type": "display_data"
    },
    {
     "data": {
      "application/vnd.jupyter.widget-view+json": {
       "model_id": "75c4babc75ab469393637ef386e6a8a1",
       "version_major": 2,
       "version_minor": 0
      },
      "text/plain": [
       "Validation: |          | 0/? [00:00<?, ?it/s]"
      ]
     },
     "metadata": {},
     "output_type": "display_data"
    },
    {
     "data": {
      "application/vnd.jupyter.widget-view+json": {
       "model_id": "f3654898056c4a84a2e7ea5f72140e42",
       "version_major": 2,
       "version_minor": 0
      },
      "text/plain": [
       "Validation: |          | 0/? [00:00<?, ?it/s]"
      ]
     },
     "metadata": {},
     "output_type": "display_data"
    },
    {
     "data": {
      "application/vnd.jupyter.widget-view+json": {
       "model_id": "725fb0a134a24f74a233d5eeb1758ce6",
       "version_major": 2,
       "version_minor": 0
      },
      "text/plain": [
       "Validation: |          | 0/? [00:00<?, ?it/s]"
      ]
     },
     "metadata": {},
     "output_type": "display_data"
    },
    {
     "data": {
      "application/vnd.jupyter.widget-view+json": {
       "model_id": "d076287e48514b4384cb3352d989226b",
       "version_major": 2,
       "version_minor": 0
      },
      "text/plain": [
       "Validation: |          | 0/? [00:00<?, ?it/s]"
      ]
     },
     "metadata": {},
     "output_type": "display_data"
    },
    {
     "data": {
      "application/vnd.jupyter.widget-view+json": {
       "model_id": "dfab7285a1db49838cc4cbd432c01ca8",
       "version_major": 2,
       "version_minor": 0
      },
      "text/plain": [
       "Validation: |          | 0/? [00:00<?, ?it/s]"
      ]
     },
     "metadata": {},
     "output_type": "display_data"
    },
    {
     "data": {
      "application/vnd.jupyter.widget-view+json": {
       "model_id": "02633d8699ad43288f3acb47a4c9b11e",
       "version_major": 2,
       "version_minor": 0
      },
      "text/plain": [
       "Validation: |          | 0/? [00:00<?, ?it/s]"
      ]
     },
     "metadata": {},
     "output_type": "display_data"
    },
    {
     "data": {
      "application/vnd.jupyter.widget-view+json": {
       "model_id": "d3d32c9fbca64a90a566c0ea43461d52",
       "version_major": 2,
       "version_minor": 0
      },
      "text/plain": [
       "Validation: |          | 0/? [00:00<?, ?it/s]"
      ]
     },
     "metadata": {},
     "output_type": "display_data"
    },
    {
     "data": {
      "application/vnd.jupyter.widget-view+json": {
       "model_id": "cb4c676772e24d68a313f3287f193d13",
       "version_major": 2,
       "version_minor": 0
      },
      "text/plain": [
       "Validation: |          | 0/? [00:00<?, ?it/s]"
      ]
     },
     "metadata": {},
     "output_type": "display_data"
    },
    {
     "data": {
      "application/vnd.jupyter.widget-view+json": {
       "model_id": "c77632e44e5d4417a2464df2f33d3a6b",
       "version_major": 2,
       "version_minor": 0
      },
      "text/plain": [
       "Validation: |          | 0/? [00:00<?, ?it/s]"
      ]
     },
     "metadata": {},
     "output_type": "display_data"
    },
    {
     "data": {
      "application/vnd.jupyter.widget-view+json": {
       "model_id": "216ec46108624c5d875c4d0d0babc4be",
       "version_major": 2,
       "version_minor": 0
      },
      "text/plain": [
       "Validation: |          | 0/? [00:00<?, ?it/s]"
      ]
     },
     "metadata": {},
     "output_type": "display_data"
    },
    {
     "data": {
      "application/vnd.jupyter.widget-view+json": {
       "model_id": "baa70b140c0c44148ef09f54345db457",
       "version_major": 2,
       "version_minor": 0
      },
      "text/plain": [
       "Validation: |          | 0/? [00:00<?, ?it/s]"
      ]
     },
     "metadata": {},
     "output_type": "display_data"
    },
    {
     "data": {
      "application/vnd.jupyter.widget-view+json": {
       "model_id": "39d9f0620dd04a528c3998529cbb955d",
       "version_major": 2,
       "version_minor": 0
      },
      "text/plain": [
       "Validation: |          | 0/? [00:00<?, ?it/s]"
      ]
     },
     "metadata": {},
     "output_type": "display_data"
    },
    {
     "data": {
      "application/vnd.jupyter.widget-view+json": {
       "model_id": "009b07922adb45f399a94e7b76f3ae3f",
       "version_major": 2,
       "version_minor": 0
      },
      "text/plain": [
       "Validation: |          | 0/? [00:00<?, ?it/s]"
      ]
     },
     "metadata": {},
     "output_type": "display_data"
    },
    {
     "data": {
      "application/vnd.jupyter.widget-view+json": {
       "model_id": "96ac26f73fa24f4eb7b7a97862e5abaf",
       "version_major": 2,
       "version_minor": 0
      },
      "text/plain": [
       "Validation: |          | 0/? [00:00<?, ?it/s]"
      ]
     },
     "metadata": {},
     "output_type": "display_data"
    },
    {
     "data": {
      "application/vnd.jupyter.widget-view+json": {
       "model_id": "61283750682743c7921dba77506f7457",
       "version_major": 2,
       "version_minor": 0
      },
      "text/plain": [
       "Validation: |          | 0/? [00:00<?, ?it/s]"
      ]
     },
     "metadata": {},
     "output_type": "display_data"
    },
    {
     "data": {
      "application/vnd.jupyter.widget-view+json": {
       "model_id": "6858694b8fd742d79b1a0d895fdb7e66",
       "version_major": 2,
       "version_minor": 0
      },
      "text/plain": [
       "Validation: |          | 0/? [00:00<?, ?it/s]"
      ]
     },
     "metadata": {},
     "output_type": "display_data"
    }
   ],
   "source": [
    "# Train\n",
    "model = FasterRCNNLightning()\n",
    "trainer.fit(model, train_loader, val_loader)"
   ]
  }
 ],
 "metadata": {
  "kaggle": {
   "accelerator": "gpu",
   "dataSources": [
    {
     "datasetId": 6405174,
     "sourceId": 10344948,
     "sourceType": "datasetVersion"
    }
   ],
   "dockerImageVersionId": 30823,
   "isGpuEnabled": true,
   "isInternetEnabled": true,
   "language": "python",
   "sourceType": "notebook"
  },
  "kernelspec": {
   "display_name": "Python 3",
   "language": "python",
   "name": "python3"
  },
  "language_info": {
   "codemirror_mode": {
    "name": "ipython",
    "version": 3
   },
   "file_extension": ".py",
   "mimetype": "text/x-python",
   "name": "python",
   "nbconvert_exporter": "python",
   "pygments_lexer": "ipython3",
   "version": "3.10.12"
  },
  "papermill": {
   "default_parameters": {},
   "duration": null,
   "end_time": null,
   "environment_variables": {},
   "exception": null,
   "input_path": "__notebook__.ipynb",
   "output_path": "__notebook__.ipynb",
   "parameters": {},
   "start_time": "2025-01-05T23:14:56.499040",
   "version": "2.6.0"
  }
 },
 "nbformat": 4,
 "nbformat_minor": 5
}