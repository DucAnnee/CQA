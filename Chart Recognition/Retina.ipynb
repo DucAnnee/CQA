{
 "cells": [
  {
   "cell_type": "markdown",
   "metadata": {},
   "source": [
    "# Library\n"
   ]
  },
  {
   "cell_type": "code",
   "execution_count": 1,
   "metadata": {},
   "outputs": [],
   "source": [
    "import torch\n",
    "import torch.nn as nn\n",
    "import numpy as np\n",
    "from torchvision import models"
   ]
  },
  {
   "cell_type": "markdown",
   "metadata": {},
   "source": [
    "# RetinaNet definition\n"
   ]
  },
  {
   "cell_type": "markdown",
   "metadata": {},
   "source": [
    "### FPN Backbone\n"
   ]
  },
  {
   "cell_type": "code",
   "execution_count": null,
   "metadata": {},
   "outputs": [],
   "source": [
    "def resnes_backbone():\n",
    "    resnet = models.resnet50(pretrained=True)\n",
    "    modules = list(resnet.children())[:-2]\n",
    "    backbone = nn.Sequential(*modules)\n",
    "    return backbone\n",
    "\n",
    "\n",
    "class FPN(nn.Modules):\n",
    "    def __init__(self, backbone):\n",
    "        self.backbone = backbone\n",
    "\n",
    "        # Lateral layers\n",
    "        self.latLayer1 = nn.Conv2D(2048, 256, kernel_size=1)\n",
    "        self.latLayer2 = nn.Conv2D(1024, 256, kernel_size=1)\n",
    "        self.latLayer3 = nn.Conv2D(512, 256, kernel_size=1)\n",
    "\n",
    "        # Final layers\n",
    "        self.conv1 = nn.Conv2D(256, 256, kernel_size=3, padding=1)\n",
    "        self.conv2 = nn.Conv2D(256, 256, kernel_size=3, padding=1)\n",
    "        self.conv3 = nn.Conv2D(256, 256, kernel_size=3, padding=1)\n",
    "\n",
    "    def forward(self, x):\n",
    "        c2, c3, c4, c5 = self.backbone(x)\n",
    "\n",
    "        # Top-down pathway\n",
    "        p5 = self.latLayer1(c5)\n",
    "        p4 = self.latLayer2(c4) + nn.Upsample(p5, scale_factor=2)\n",
    "        p3 = self.latLayer3(c3) + nn.Upsample(p4, scale_factor=2)\n",
    "\n",
    "        # Final convolutions\n",
    "        p5 = self.conv1(p5)\n",
    "        p4 = self.conv2(p4)\n",
    "        p3 = self.conv3(p3)\n",
    "\n",
    "        return p3, p4, p5"
   ]
  },
  {
   "cell_type": "markdown",
   "metadata": {},
   "source": [
    "### Classification and Box Regression Subnetwork\n"
   ]
  },
  {
   "cell_type": "code",
   "execution_count": null,
   "metadata": {},
   "outputs": [],
   "source": [
    "class ClassificationSubnet(nn.Module):\n",
    "    def __init__(self, num_classes):\n",
    "        super().__init__()\n",
    "        self.num_classes = num_classes\n",
    "        self.conv1 = nn.Conv2D(256, 256, kernel_size=3, padding=1)\n",
    "        self.conv2 = nn.Conv2D(256, 256, kernel_size=3, padding=1)\n",
    "        self.conv3 = nn.Conv2D(256, 256, kernel_size=3, padding=1)\n",
    "        self.conv4 = nn.Conv2D(256, 256, kernel_size=3, padding=1)\n",
    "        self.act1 = nn.ReLU()\n",
    "        self.conv5 = nn.Conv2D(256, num_classes, kernel_size=3, padding=1)\n",
    "        self.act2 = nn.Sigmoid()\n",
    "\n",
    "    def forward(self, x):\n",
    "        out = self.conv1(x)\n",
    "        out = self.act1(out)\n",
    "        out = self.conv2(out)\n",
    "        out = self.act1(out)\n",
    "        out = self.conv3(out)\n",
    "        out = self.act1(out)\n",
    "        out = self.conv4(out)\n",
    "        out = self.act1(out)\n",
    "        out = self.conv5(out)\n",
    "        out = self.act2(out)\n",
    "        return out\n",
    "\n",
    "\n",
    "class RegressionSubnet(nn.Module):\n",
    "    def __init__(self):\n",
    "        super().__init__()\n",
    "        self.conv1 = nn.Conv2D(256, 256, kernel_size=3, padding=1)\n",
    "        self.conv2 = nn.Conv2D(256, 256, kernel_size=3, padding=1)\n",
    "        self.conv3 = nn.Conv2D(256, 256, kernel_size=3, padding=1)\n",
    "        self.conv4 = nn.Conv2D(256, 256, kernel_size=3, padding=1)\n",
    "        self.act1 = nn.ReLU()\n",
    "        self.conv5 = nn.Conv2D(256, 4, kernel_size=3, padding=1)\n",
    "        self.act2 = nn.Sigmoid()\n",
    "\n",
    "    def forward(self, x):\n",
    "        out = self.conv1(x)\n",
    "        out = self.act1(out)\n",
    "        out = self.conv2(out)\n",
    "        out = self.act1(out)\n",
    "        out = self.conv3(out)\n",
    "        out = self.act1(out)\n",
    "        out = self.conv4(out)\n",
    "        out = self.act1(out)\n",
    "        out = self.conv5(out)\n",
    "        out = self.act2(out)\n",
    "        return out"
   ]
  },
  {
   "cell_type": "markdown",
   "metadata": {},
   "source": [
    "### RetinaNet\n"
   ]
  },
  {
   "cell_type": "code",
   "execution_count": null,
   "metadata": {},
   "outputs": [],
   "source": [
    "class RetinaNet(nn.Module):\n",
    "    def __init__(self, backbone, num_classes):\n",
    "        super().__init__()\n",
    "        self.backbone = backbone\n",
    "        self.fpn = FPN(backbone)\n",
    "        self.classification_subnet = ClassificationSubnet(num_classes)\n",
    "        self.regression_subnet = RegressionSubnet()\n",
    "\n",
    "    def forward(self, x):\n",
    "        p3, p4, p5 = self.fpn(x)\n",
    "        cls_p3 = self.classification_subnet(p3)\n",
    "        cls_p4 = self.classification_subnet(p4)\n",
    "        cls_p5 = self.classification_subnet(p5)\n",
    "\n",
    "        reg_p3 = self.regression_subnet(p3)\n",
    "        reg_p4 = self.regression_subnet(p4)\n",
    "        reg_p5 = self.regression_subnet(p5)\n",
    "\n",
    "        return [cls_p3, cls_p4, cls_p5], [reg_p3, reg_p4, reg_p5]"
   ]
  },
  {
   "cell_type": "markdown",
   "metadata": {},
   "source": [
    "### Focal Loss\n"
   ]
  },
  {
   "cell_type": "code",
   "execution_count": null,
   "metadata": {},
   "outputs": [],
   "source": [
    "class FocalLoss(nn.Module):\n",
    "    def __init__(self, alpha=0.25, gamma=2.0):\n",
    "        super().__init__()\n",
    "        self.alpha = alpha\n",
    "        self.gamma = gamma\n",
    "\n",
    "    def forward(self, inputs, targets):\n",
    "        probs = torch.sigmoid(inputs)\n",
    "\n",
    "        for i in range(len(probs)):\n",
    "            if targets[i] != 1:\n",
    "                probs[i] = 1 - probs[i]\n",
    "\n",
    "        loss = -self.alpha * (1 - probs) ** self.gamma * torch.log(probs)\n",
    "\n",
    "        return loss"
   ]
  },
  {
   "cell_type": "markdown",
   "metadata": {},
   "source": [
    "# Training\n"
   ]
  }
 ],
 "metadata": {
  "kernelspec": {
   "display_name": "gmed",
   "language": "python",
   "name": "python3"
  },
  "language_info": {
   "codemirror_mode": {
    "name": "ipython",
    "version": 3
   },
   "file_extension": ".py",
   "mimetype": "text/x-python",
   "name": "python",
   "nbconvert_exporter": "python",
   "pygments_lexer": "ipython3",
   "version": "3.12.3"
  }
 },
 "nbformat": 4,
 "nbformat_minor": 2
}
