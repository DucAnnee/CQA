{
 "cells": [
  {
   "cell_type": "code",
   "execution_count": 1,
   "metadata": {},
   "outputs": [],
   "source": [
    "import os"
   ]
  },
  {
   "cell_type": "code",
   "execution_count": null,
   "metadata": {},
   "outputs": [],
   "source": [
    "import os\n",
    "\n",
    "folder_path = \"./DocBank/splitted_labels/splitted_labels/\"\n",
    "\n",
    "# List all files in the folder\n",
    "file_list = os.listdir(folder_path)\n",
    "\n",
    "\n",
    "# Iterate over each file\n",
    "for file_name in file_list:\n",
    "    file_path = os.path.join(folder_path, file_name)\n",
    "\n",
    "    # Open the file\n",
    "    with open(file_path, \"r\") as file:\n",
    "        # Iterate over each line in the file\n",
    "        file_content = \"\"\n",
    "        for line in file:\n",
    "            content = line.strip().split(\"\\t\")\n",
    "            token, x0, y0, x1, y1, R, G, B, font, label = content\n",
    "\n",
    "            if (\n",
    "                (int(x0) < 0)\n",
    "                or (int(y0) < 0)\n",
    "                or (int(x1) < 0)\n",
    "                or (int(y1) < 0)\n",
    "                or (x1 <= x0 or y1 <= y0)\n",
    "            ):\n",
    "                continue\n",
    "            if label == \"figure\":\n",
    "                label = 1\n",
    "            else:\n",
    "                label = 0\n",
    "            str = f\"{x0}\\t{y0}\\t{x1}\\t{y1}\\t{label}\\n\"\n",
    "            file_content += str\n",
    "        # Write the new content to another folder with the same name\n",
    "        file_path = os.path.join(\n",
    "            \"./DocBank/splitted_labels/splitted_labels/\", file_name\n",
    "        )\n",
    "        with open(file_path, \"w\") as file:\n",
    "            file.write(file_content)"
   ]
  }
 ],
 "metadata": {
  "kernelspec": {
   "display_name": "gmed",
   "language": "python",
   "name": "python3"
  },
  "language_info": {
   "codemirror_mode": {
    "name": "ipython",
    "version": 3
   },
   "file_extension": ".py",
   "mimetype": "text/x-python",
   "name": "python",
   "nbconvert_exporter": "python",
   "pygments_lexer": "ipython3",
   "version": "3.12.3"
  }
 },
 "nbformat": 4,
 "nbformat_minor": 2
}
